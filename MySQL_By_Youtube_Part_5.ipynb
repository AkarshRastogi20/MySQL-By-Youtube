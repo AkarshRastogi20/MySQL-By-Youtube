{
  "nbformat": 4,
  "nbformat_minor": 0,
  "metadata": {
    "colab": {
      "provenance": []
    },
    "kernelspec": {
      "name": "python3",
      "display_name": "Python 3"
    },
    "language_info": {
      "name": "python"
    }
  },
  "cells": [
    {
      "cell_type": "code",
      "execution_count": 1,
      "metadata": {
        "colab": {
          "base_uri": "https://localhost:8080/"
        },
        "id": "YkpcdnzFFPuA",
        "outputId": "d7579721-5222-48bc-9cf0-61a2af0be804"
      },
      "outputs": [
        {
          "output_type": "stream",
          "name": "stdout",
          "text": [
            "Reading package lists... Done\n",
            "Building dependency tree... Done\n",
            "Reading state information... Done\n",
            "sqlite3 is already the newest version (3.37.2-2ubuntu0.3).\n",
            "0 upgraded, 0 newly installed, 0 to remove and 32 not upgraded.\n"
          ]
        }
      ],
      "source": [
        "!apt-get install -y sqlite3"
      ]
    },
    {
      "cell_type": "markdown",
      "source": [
        "**SQL Joins**"
      ],
      "metadata": {
        "id": "nYwkui9EFe5Z"
      }
    },
    {
      "cell_type": "code",
      "source": [
        "import sqlite3\n",
        "\n",
        "# Connect to the SQLite database (creates it if it doesn't exist)\n",
        "conn = sqlite3.connect('customers_record.db')\n",
        "\n",
        "# Create a cursor object to execute SQL queries\n",
        "cursor = conn.cursor()\n",
        "\n",
        "# Creating the customer_info table\n",
        "cursor.execute('''\n",
        "    CREATE TABLE IF NOT EXISTS customer_info(\n",
        "        id INTEGER PRIMARY KEY AUTOINCREMENT,\n",
        "        name TEXT NOT NULL,\n",
        "        age INTEGER\n",
        "    )''')\n",
        "\n",
        "# Commit changes and close the connection\n",
        "conn.commit()\n",
        "conn.close()\n"
      ],
      "metadata": {
        "id": "rw2dAI6cFVZI"
      },
      "execution_count": 2,
      "outputs": []
    },
    {
      "cell_type": "code",
      "source": [
        "# Connect again to the SQLite database\n",
        "conn = sqlite3.connect('customers_record.db')\n",
        "cursor = conn.cursor()\n",
        "\n",
        "# Creating the purchases table\n",
        "cursor.execute('''\n",
        "    CREATE TABLE IF NOT EXISTS purchases(\n",
        "        purchase_id INTEGER PRIMARY KEY AUTOINCREMENT,\n",
        "        customer_id INTEGER,\n",
        "        product_name TEXT\n",
        "    )''')\n",
        "\n",
        "# Commit changes and close the connection\n",
        "conn.commit()\n",
        "conn.close()\n"
      ],
      "metadata": {
        "id": "eAGs0PJrGZF9"
      },
      "execution_count": 3,
      "outputs": []
    },
    {
      "cell_type": "code",
      "source": [
        "# Connect again to the SQLite database\n",
        "conn = sqlite3.connect('customers_record.db')\n",
        "cursor = conn.cursor()\n",
        "\n",
        "# Inserting data into customer_info table\n",
        "cursor.execute(\"INSERT INTO customer_info (name, age) VALUES ('Alice', 30)\")\n",
        "cursor.execute(\"INSERT INTO customer_info (name, age) VALUES ('Bob', 25)\")\n",
        "cursor.execute(\"INSERT INTO customer_info (name, age) VALUES ('Charlie', 35)\")\n",
        "\n",
        "# Inserting data into purchases table\n",
        "cursor.execute(\"INSERT INTO purchases (customer_id, product_name) VALUES (1, 'Phone')\")\n",
        "cursor.execute(\"INSERT INTO purchases (customer_id, product_name) VALUES (2, 'Laptop')\")\n",
        "cursor.execute(\"INSERT INTO purchases (customer_id, product_name) VALUES (3, 'Tablet')\")\n",
        "\n",
        "# Commit changes and close the connection\n",
        "conn.commit()\n",
        "conn.close()\n"
      ],
      "metadata": {
        "id": "w9sSWDp0GjbK"
      },
      "execution_count": 4,
      "outputs": []
    },
    {
      "cell_type": "code",
      "source": [
        "# Connect again to the SQLite database\n",
        "conn = sqlite3.connect('customers_record.db')\n",
        "cursor = conn.cursor()\n",
        "\n",
        "# Inner Join\n",
        "# An inner join returns only the rows where there is a match in both tables based on the join condition.\n",
        "# In our example, it returns a list of customers along with their purchases where there is a match between\n",
        "# the customer IDs in the customer_info table and the customer_id column in the purchases table.\n",
        "cursor.execute('''\n",
        "    SELECT customer_info.name, customer_info.age, purchases.product_name\n",
        "    FROM customer_info\n",
        "    INNER JOIN purchases ON customer_info.id = purchases.customer_id\n",
        "''')\n",
        "print(\"Inner Join Results:\")\n",
        "print(cursor.fetchall())\n",
        "\n",
        "# Left Join\n",
        "# A left join returns all rows from the left table (customer_info), and the matched rows from the right table\n",
        "# (purchases). If there is no match, it returns NULL values for the columns from the right table.\n",
        "# In our example, it returns a list of all customers along with their purchases.\n",
        "# If a customer hasn't made any purchases, their details will still be listed, with NULL values\n",
        "# for the purchase details.\n",
        "cursor.execute('''\n",
        "    SELECT customer_info.name, customer_info.age, purchases.product_name\n",
        "    FROM customer_info\n",
        "    LEFT JOIN purchases ON customer_info.id = purchases.customer_id\n",
        "''')\n",
        "print(\"\\nLeft Join Results:\")\n",
        "print(cursor.fetchall())"
      ],
      "metadata": {
        "colab": {
          "base_uri": "https://localhost:8080/"
        },
        "id": "GYU3u58lGrlo",
        "outputId": "221a7ff2-0d40-483a-a444-ce8986e74706"
      },
      "execution_count": 5,
      "outputs": [
        {
          "output_type": "stream",
          "name": "stdout",
          "text": [
            "Inner Join Results:\n",
            "[('Alice', 30, 'Phone'), ('Bob', 25, 'Laptop'), ('Charlie', 35, 'Tablet'), ('Alice', 30, 'Phone'), ('Bob', 25, 'Laptop'), ('Charlie', 35, 'Tablet')]\n",
            "\n",
            "Left Join Results:\n",
            "[('Alice', 30, 'Phone'), ('Alice', 30, 'Phone'), ('Bob', 25, 'Laptop'), ('Bob', 25, 'Laptop'), ('Charlie', 35, 'Tablet'), ('Charlie', 35, 'Tablet'), ('Alice', 30, None), ('Bob', 25, None), ('Charlie', 35, None)]\n"
          ]
        }
      ]
    },
    {
      "cell_type": "code",
      "source": [
        "# Connect again to the SQLite database\n",
        "conn = sqlite3.connect('customers_record.db')\n",
        "cursor = conn.cursor()\n",
        "\n",
        "# Left Join (equivalent to Right Join by rearranging tables)\n",
        "# A right join returns all rows from the right table (purchases), and the matched rows from the left table\n",
        "# (customer_info). If there is no match, it returns NULL values for the columns from the left table.\n",
        "# In our example, we simulate the right join behavior by rearranging the tables in the left join query.\n",
        "# It would return a list of all purchases along with the customer details. If a purchase doesn't have a\n",
        "# corresponding customer, it will still be listed with NULL values for the customer details.\n",
        "cursor.execute('''\n",
        "    SELECT customer_info.name, customer_info.age, purchases.product_name\n",
        "    FROM purchases\n",
        "    LEFT JOIN customer_info ON purchases.customer_id = customer_info.id\n",
        "''')\n",
        "print(\"\\nRight Join Results:\")\n",
        "print(cursor.fetchall())\n",
        "\n",
        "# Full Join (equivalent to combining Left Join and Union)\n",
        "# A full join returns all rows when there is a match in either the left table or the right table.\n",
        "# In our example, we simulate the full join behavior by combining the results of left join and right join\n",
        "# using UNION. It returns a combination of all customers with their purchases and all purchases with their\n",
        "# associated customers. If a customer hasn't made any purchases or a purchase doesn't\n",
        "# have an associated customer, they will still be listed with NULL values for the respective details.\n",
        "cursor.execute('''\n",
        "    SELECT customer_info.name, customer_info.age, purchases.product_name\n",
        "    FROM customer_info\n",
        "    LEFT JOIN purchases ON customer_info.id = purchases.customer_id\n",
        "UNION\n",
        "    SELECT customer_info.name, customer_info.age, purchases.product_name\n",
        "    FROM purchases\n",
        "    LEFT JOIN customer_info ON purchases.customer_id = customer_info.id\n",
        "''')\n",
        "print(\"\\nFull Join Results:\")\n",
        "print(cursor.fetchall())\n",
        "\n",
        "# Close the connection\n",
        "conn.close()\n"
      ],
      "metadata": {
        "colab": {
          "base_uri": "https://localhost:8080/"
        },
        "id": "pfNubfCIG6gP",
        "outputId": "9db5469a-d5ca-4127-8042-0e8ac8606e84"
      },
      "execution_count": 6,
      "outputs": [
        {
          "output_type": "stream",
          "name": "stdout",
          "text": [
            "\n",
            "Right Join Results:\n",
            "[('Alice', 30, 'Phone'), ('Bob', 25, 'Laptop'), ('Charlie', 35, 'Tablet'), ('Alice', 30, 'Phone'), ('Bob', 25, 'Laptop'), ('Charlie', 35, 'Tablet')]\n",
            "\n",
            "Full Join Results:\n",
            "[('Alice', 30, None), ('Alice', 30, 'Phone'), ('Bob', 25, None), ('Bob', 25, 'Laptop'), ('Charlie', 35, None), ('Charlie', 35, 'Tablet')]\n"
          ]
        }
      ]
    },
    {
      "cell_type": "code",
      "source": [
        "# Connect again to the SQLite database\n",
        "conn = sqlite3.connect('customers_record.db')\n",
        "cursor = conn.cursor()\n",
        "\n",
        "# Natural Join\n",
        "# A natural join returns all rows from both tables where the values of one or more columns in one table match\n",
        "# the values of one or more columns in the other table.\n",
        "# In our example, it returns a list of customers along with their purchases where there is a match based on the\n",
        "# columns with the same name in both tables. For example, if both tables have a column named id, the natural join\n",
        "# will match rows where the id values are equal.\n",
        "cursor.execute('''\n",
        "    SELECT customer_info.name, customer_info.age, purchases.product_name\n",
        "    FROM customer_info\n",
        "    NATURAL JOIN purchases\n",
        "''')\n",
        "print(\"\\nNatural Join Results:\")\n",
        "print(cursor.fetchall())\n",
        "\n",
        "# Cross Join\n",
        "# A cross join returns the Cartesian product of the sets of rows from the joined tables. In other words,\n",
        "# it returns all possible combinations of rows from both tables.\n",
        "# In our example, it returns a combination of all customers with all purchases, regardless of any matching\n",
        "# conditions. This results in every customer being paired with every purchase, creating a large result set with\n",
        "# every possible combination of customer and purchase.\n",
        "\n",
        "\n",
        "cursor.execute('''\n",
        "    SELECT customer_info.name, customer_info.age, purchases.product_name\n",
        "    FROM customer_info\n",
        "    CROSS JOIN purchases\n",
        "''')\n",
        "print(\"\\nCross Join Results:\")\n",
        "print(cursor.fetchall())\n",
        "\n",
        "# Close the connection\n",
        "conn.close()\n"
      ],
      "metadata": {
        "colab": {
          "base_uri": "https://localhost:8080/"
        },
        "id": "jkFa1NTRHbCg",
        "outputId": "20d8c7ea-65b6-4220-ef76-c8fcf2a5a11f"
      },
      "execution_count": 7,
      "outputs": [
        {
          "output_type": "stream",
          "name": "stdout",
          "text": [
            "\n",
            "Natural Join Results:\n",
            "[('Alice', 30, 'Phone'), ('Alice', 30, 'Laptop'), ('Alice', 30, 'Tablet'), ('Alice', 30, 'Phone'), ('Alice', 30, 'Laptop'), ('Alice', 30, 'Tablet'), ('Bob', 25, 'Phone'), ('Bob', 25, 'Laptop'), ('Bob', 25, 'Tablet'), ('Bob', 25, 'Phone'), ('Bob', 25, 'Laptop'), ('Bob', 25, 'Tablet'), ('Charlie', 35, 'Phone'), ('Charlie', 35, 'Laptop'), ('Charlie', 35, 'Tablet'), ('Charlie', 35, 'Phone'), ('Charlie', 35, 'Laptop'), ('Charlie', 35, 'Tablet'), ('Alice', 30, 'Phone'), ('Alice', 30, 'Laptop'), ('Alice', 30, 'Tablet'), ('Alice', 30, 'Phone'), ('Alice', 30, 'Laptop'), ('Alice', 30, 'Tablet'), ('Bob', 25, 'Phone'), ('Bob', 25, 'Laptop'), ('Bob', 25, 'Tablet'), ('Bob', 25, 'Phone'), ('Bob', 25, 'Laptop'), ('Bob', 25, 'Tablet'), ('Charlie', 35, 'Phone'), ('Charlie', 35, 'Laptop'), ('Charlie', 35, 'Tablet'), ('Charlie', 35, 'Phone'), ('Charlie', 35, 'Laptop'), ('Charlie', 35, 'Tablet')]\n",
            "\n",
            "Cross Join Results:\n",
            "[('Alice', 30, 'Phone'), ('Alice', 30, 'Laptop'), ('Alice', 30, 'Tablet'), ('Alice', 30, 'Phone'), ('Alice', 30, 'Laptop'), ('Alice', 30, 'Tablet'), ('Bob', 25, 'Phone'), ('Bob', 25, 'Laptop'), ('Bob', 25, 'Tablet'), ('Bob', 25, 'Phone'), ('Bob', 25, 'Laptop'), ('Bob', 25, 'Tablet'), ('Charlie', 35, 'Phone'), ('Charlie', 35, 'Laptop'), ('Charlie', 35, 'Tablet'), ('Charlie', 35, 'Phone'), ('Charlie', 35, 'Laptop'), ('Charlie', 35, 'Tablet'), ('Alice', 30, 'Phone'), ('Alice', 30, 'Laptop'), ('Alice', 30, 'Tablet'), ('Alice', 30, 'Phone'), ('Alice', 30, 'Laptop'), ('Alice', 30, 'Tablet'), ('Bob', 25, 'Phone'), ('Bob', 25, 'Laptop'), ('Bob', 25, 'Tablet'), ('Bob', 25, 'Phone'), ('Bob', 25, 'Laptop'), ('Bob', 25, 'Tablet'), ('Charlie', 35, 'Phone'), ('Charlie', 35, 'Laptop'), ('Charlie', 35, 'Tablet'), ('Charlie', 35, 'Phone'), ('Charlie', 35, 'Laptop'), ('Charlie', 35, 'Tablet')]\n"
          ]
        }
      ]
    },
    {
      "cell_type": "code",
      "source": [],
      "metadata": {
        "id": "NY6V1_xDH4U2"
      },
      "execution_count": null,
      "outputs": []
    }
  ]
}