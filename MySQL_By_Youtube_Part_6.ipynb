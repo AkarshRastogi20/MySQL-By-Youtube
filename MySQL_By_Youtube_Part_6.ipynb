{
  "nbformat": 4,
  "nbformat_minor": 0,
  "metadata": {
    "colab": {
      "provenance": []
    },
    "kernelspec": {
      "name": "python3",
      "display_name": "Python 3"
    },
    "language_info": {
      "name": "python"
    }
  },
  "cells": [
    {
      "cell_type": "code",
      "execution_count": 1,
      "metadata": {
        "colab": {
          "base_uri": "https://localhost:8080/"
        },
        "id": "GIkdG9wjeUGp",
        "outputId": "8f44cc76-b446-423b-9539-06ca3b5f1d90"
      },
      "outputs": [
        {
          "output_type": "stream",
          "name": "stdout",
          "text": [
            "Reading package lists... Done\n",
            "Building dependency tree... Done\n",
            "Reading state information... Done\n",
            "Suggested packages:\n",
            "  sqlite3-doc\n",
            "The following NEW packages will be installed:\n",
            "  sqlite3\n",
            "0 upgraded, 1 newly installed, 0 to remove and 33 not upgraded.\n",
            "Need to get 768 kB of archives.\n",
            "After this operation, 1,873 kB of additional disk space will be used.\n",
            "Get:1 http://archive.ubuntu.com/ubuntu jammy-updates/main amd64 sqlite3 amd64 3.37.2-2ubuntu0.3 [768 kB]\n",
            "Fetched 768 kB in 1s (925 kB/s)\n",
            "Selecting previously unselected package sqlite3.\n",
            "(Reading database ... 121749 files and directories currently installed.)\n",
            "Preparing to unpack .../sqlite3_3.37.2-2ubuntu0.3_amd64.deb ...\n",
            "Unpacking sqlite3 (3.37.2-2ubuntu0.3) ...\n",
            "Setting up sqlite3 (3.37.2-2ubuntu0.3) ...\n",
            "Processing triggers for man-db (2.10.2-1) ...\n"
          ]
        }
      ],
      "source": [
        "!apt-get install -y sqlite3"
      ]
    },
    {
      "cell_type": "markdown",
      "source": [
        "**MySQL Stored Query**\n",
        "\n",
        "\n",
        "\n",
        "SQL statements within functions and using parameterization, the code achieves a cleaner, safer, and more maintainable approach to interacting with the SQLite database. This approach is commonly referred to as using stored queries within the context of application development."
      ],
      "metadata": {
        "id": "IyjGFuCeesPM"
      }
    },
    {
      "cell_type": "code",
      "source": [
        "conn = sqlite3.connect('customers_record.db')\n",
        "cursor = conn.cursor()\n",
        "\n",
        "cursor.execute('''\n",
        "    CREATE TABLE customer_info(\n",
        "        id INTEGER PRIMARY KEY NOT NULL,\n",
        "        name TEXT NOT NULL,\n",
        "        age INTEGER\n",
        "    )''')\n",
        "\n",
        "conn.commit()\n",
        "conn.close()\n"
      ],
      "metadata": {
        "id": "PTyVIiaYgy0L"
      },
      "execution_count": 4,
      "outputs": []
    },
    {
      "cell_type": "code",
      "source": [
        "import sqlite3\n",
        "\n",
        "def insert_customer(name, age):\n",
        "    conn = sqlite3.connect('customers_record.db')\n",
        "    cursor = conn.cursor()\n",
        "    cursor.execute('''\n",
        "        INSERT INTO customer_info(name, age)\n",
        "        VALUES(?, ?)\n",
        "    ''', (name, age))\n",
        "    conn.commit()\n",
        "    conn.close()\n",
        "\n",
        "def update_customer_age(customer_id, new_age):\n",
        "    conn = sqlite3.connect('customers_record.db')\n",
        "    cursor = conn.cursor()\n",
        "    cursor.execute('''\n",
        "        UPDATE customer_info\n",
        "        SET age = ?\n",
        "        WHERE id = ?\n",
        "    ''', (new_age, customer_id))\n",
        "    conn.commit()\n",
        "    conn.close()\n",
        "\n",
        "def delete_customer(customer_id):\n",
        "    conn = sqlite3.connect('customers_record.db')\n",
        "    cursor = conn.cursor()\n",
        "    cursor.execute('''\n",
        "        DELETE FROM customer_info\n",
        "        WHERE id = ?\n",
        "    ''', (customer_id,))\n",
        "    conn.commit()\n",
        "    conn.close()\n",
        "\n",
        "def select_all_customers():\n",
        "    conn = sqlite3.connect('customers_record.db')\n",
        "    cursor = conn.cursor()\n",
        "    cursor.execute('''\n",
        "        SELECT * FROM customer_info\n",
        "    ''')\n",
        "    rows = cursor.fetchall()\n",
        "    conn.close()\n",
        "    return rows\n"
      ],
      "metadata": {
        "id": "MspIaaB1echS"
      },
      "execution_count": 2,
      "outputs": []
    },
    {
      "cell_type": "code",
      "source": [
        "insert_customer(\"John Doe\", 30)\n",
        "update_customer_age(1, 31)\n",
        "delete_customer(2)\n",
        "all_customers = select_all_customers()\n",
        "print(all_customers)\n"
      ],
      "metadata": {
        "colab": {
          "base_uri": "https://localhost:8080/"
        },
        "id": "QI5p76_lggU1",
        "outputId": "447a7027-1a4b-4c67-b291-d99fc5a182d5"
      },
      "execution_count": 5,
      "outputs": [
        {
          "output_type": "stream",
          "name": "stdout",
          "text": [
            "[(1, 'John Doe', 31)]\n"
          ]
        }
      ]
    },
    {
      "cell_type": "markdown",
      "source": [
        "**Stored Queries:**\n",
        "\n",
        "Stored queries typically refer to predefined SQL statements stored within application code, as we discussed earlier.\n",
        "In the context of application code, stored queries are usually encapsulated within functions or methods for reuse.\n",
        "They are written in the programming language's syntax (e.g., Python) and are executed within the application code.\n",
        "\n",
        "\n",
        "\n",
        "\n",
        "\n",
        "\n",
        "\n",
        "**Stored Procedures:**\n",
        "\n",
        "Stored procedures are a feature provided by database management systems (DBMS) like SQLite, MySQL, or SQL Server.\n",
        "They are stored within the database itself and are typically written in the SQL language specific to the DBMS.\n",
        "Stored procedures can contain multiple SQL statements and procedural logic.\n",
        "They are executed within the database server and can be called from application code or directly from other SQL statements."
      ],
      "metadata": {
        "id": "CfawNLoRhi0M"
      }
    },
    {
      "cell_type": "markdown",
      "source": [
        "**SQL Stored Procedure**"
      ],
      "metadata": {
        "id": "6lMi2XgGiLm3"
      }
    },
    {
      "cell_type": "code",
      "source": [
        "# SQLite does not support the creation of stored procedures\n",
        "# in the same way that other relational database management systems (RDBMS) such as MySQL or SQL Server do"
      ],
      "metadata": {
        "id": "SnraKzVtgjpO"
      },
      "execution_count": 7,
      "outputs": []
    },
    {
      "cell_type": "code",
      "source": [],
      "metadata": {
        "id": "q9DZayW2iVBW"
      },
      "execution_count": null,
      "outputs": []
    }
  ]
}