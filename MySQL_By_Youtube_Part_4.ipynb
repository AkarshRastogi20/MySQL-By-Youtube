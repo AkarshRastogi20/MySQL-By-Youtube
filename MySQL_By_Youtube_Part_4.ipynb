{
  "nbformat": 4,
  "nbformat_minor": 0,
  "metadata": {
    "colab": {
      "provenance": []
    },
    "kernelspec": {
      "name": "python3",
      "display_name": "Python 3"
    },
    "language_info": {
      "name": "python"
    }
  },
  "cells": [
    {
      "cell_type": "code",
      "execution_count": 1,
      "metadata": {
        "colab": {
          "base_uri": "https://localhost:8080/"
        },
        "id": "WbSTk7bx9kS_",
        "outputId": "6b3c9568-9739-4624-817b-1571e0d3de16"
      },
      "outputs": [
        {
          "output_type": "stream",
          "name": "stdout",
          "text": [
            "Reading package lists... Done\n",
            "Building dependency tree... Done\n",
            "Reading state information... Done\n",
            "Suggested packages:\n",
            "  sqlite3-doc\n",
            "The following NEW packages will be installed:\n",
            "  sqlite3\n",
            "0 upgraded, 1 newly installed, 0 to remove and 32 not upgraded.\n",
            "Need to get 768 kB of archives.\n",
            "After this operation, 1,873 kB of additional disk space will be used.\n",
            "Get:1 http://archive.ubuntu.com/ubuntu jammy-updates/main amd64 sqlite3 amd64 3.37.2-2ubuntu0.3 [768 kB]\n",
            "Fetched 768 kB in 1s (968 kB/s)\n",
            "Selecting previously unselected package sqlite3.\n",
            "(Reading database ... 121749 files and directories currently installed.)\n",
            "Preparing to unpack .../sqlite3_3.37.2-2ubuntu0.3_amd64.deb ...\n",
            "Unpacking sqlite3 (3.37.2-2ubuntu0.3) ...\n",
            "Setting up sqlite3 (3.37.2-2ubuntu0.3) ...\n",
            "Processing triggers for man-db (2.10.2-1) ...\n"
          ]
        }
      ],
      "source": [
        "!apt-get install -y sqlite3"
      ]
    },
    {
      "cell_type": "markdown",
      "source": [
        "**Views in SQL**\n",
        "\n",
        "It is a virtual table based on the result set of an SQL query.In this we can get any number of rows and columns.so in short it gives us separate column and row detail from a huge amount of data."
      ],
      "metadata": {
        "id": "SXyPLDEqAIgG"
      }
    },
    {
      "cell_type": "code",
      "source": [
        "import sqlite3\n",
        "\n",
        "# Connect to the database\n",
        "conn = sqlite3.connect('customers_record.db')\n",
        "cursor = conn.cursor()\n",
        "\n",
        "# Create customer_info table\n",
        "cursor.execute('''\n",
        "    CREATE TABLE customer_info (\n",
        "        id INTEGER PRIMARY KEY NOT NULL,\n",
        "        name TEXT NOT NULL,\n",
        "        age INTEGER DEFAULT 18 CHECK (age >= 0)\n",
        "    )\n",
        "''')\n",
        "\n",
        "# Create customer_orders table\n",
        "cursor.execute('''\n",
        "    CREATE TABLE customer_orders (\n",
        "        order_id INTEGER PRIMARY KEY NOT NULL,\n",
        "        customer_id INTEGER,\n",
        "        order_date DATE,\n",
        "        FOREIGN KEY (customer_id) REFERENCES customer_info(id)\n",
        "    )\n",
        "''')\n",
        "\n",
        "# Insert sample data into customer_info table\n",
        "cursor.execute('''\n",
        "    INSERT INTO customer_info (name, age) VALUES\n",
        "    ('John Doe', 30),\n",
        "    ('Jane Smith', 25),\n",
        "    ('Michael Johnson', 40)\n",
        "''')\n",
        "\n",
        "# Insert sample data into customer_orders table\n",
        "cursor.execute('''\n",
        "    INSERT INTO customer_orders (customer_id, order_date) VALUES\n",
        "    (1, '2024-01-15'),\n",
        "    (2, '2024-01-20'),\n",
        "    (3, '2024-01-25')\n",
        "''')\n",
        "\n",
        "# Commit changes to the database\n",
        "conn.commit()\n",
        "\n",
        "# Define and create the view\n",
        "cursor.execute('''\n",
        "    CREATE VIEW customer_orders_view AS\n",
        "    SELECT c.name, o.order_date\n",
        "    FROM customer_info c\n",
        "    JOIN customer_orders o ON c.id = o.customer_id\n",
        "''')\n",
        "\n",
        "# Query the view\n",
        "cursor.execute('SELECT * FROM customer_orders_view') # here customer_orders_view is a virtual table\n",
        "rows = cursor.fetchall()\n",
        "\n",
        "# Display the retrieved data\n",
        "for row in rows:\n",
        "    print(row)\n",
        "\n",
        "# Close the connection\n",
        "conn.close()"
      ],
      "metadata": {
        "colab": {
          "base_uri": "https://localhost:8080/"
        },
        "id": "uhimBc4vAHIv",
        "outputId": "87009261-feee-4484-f27d-67886d0e6323"
      },
      "execution_count": 2,
      "outputs": [
        {
          "output_type": "stream",
          "name": "stdout",
          "text": [
            "('John Doe', '2024-01-15')\n",
            "('Jane Smith', '2024-01-20')\n",
            "('Michael Johnson', '2024-01-25')\n"
          ]
        }
      ]
    },
    {
      "cell_type": "markdown",
      "source": [
        "**Which Queries we can write in view and which not?**\n",
        "\n",
        "Here are some examples of queries you can write in a view:\n",
        "\n",
        "1. Basic SELECT Queries: You can select specific columns or all columns from the underlying tables.\n",
        "\n",
        "SELECT column1, column2 FROM view_name;\n",
        "SELECT * FROM view_name;\n",
        "\n",
        "2. Filtering Data: You can filter the data returned by the view using WHERE clause.\n",
        "\n",
        "SELECT * FROM view_name WHERE condition;\n",
        "\n",
        "3. Joining Tables: You can perform joins with other tables in the view.\n",
        "\n",
        "SELECT * FROM view_name JOIN other_table ON view_name.column = other_table.column;\n",
        "\n",
        "4. Aggregations: You can perform aggregations like SUM, COUNT, AVG, etc., in the view.\n",
        "\n",
        "SELECT column1, COUNT(column2) FROM view_name GROUP BY column1;\n",
        "\n",
        "\n",
        "\n",
        "\n",
        "\n",
        "\n",
        "\n",
        "\n",
        "\n",
        "\n",
        "\n",
        "\n",
        "\n",
        "\n",
        "\n",
        "\n"
      ],
      "metadata": {
        "id": "VqP9b9YBItfl"
      }
    },
    {
      "cell_type": "markdown",
      "source": [
        "there are certain types of queries that you cannot directly write in a view.\n",
        "\n",
        "1. Queries with ORDER BY\n",
        "2. Queries with LIMIT or OFFSET\n",
        "3. Queries with Recursive Common Table Expressions (CTEs)\n",
        "4. Queries with Non-Deterministic Functions: Views often cannot contain non-deterministic functions like RAND(), GETDATE(), or other functions that can return different values each time they are called. This is because views are expected to return consistent results for the same query.\n",
        "5. Queries with Temporary Tables or Table Variables: Views usually cannot reference temporary tables or table variables because views are stored definitions and not actual data.\n",
        "6. Queries with Certain Types of Joins or Subqueries\n",
        "7. Queries with DDL (Data Definition Language) Statements: Views cannot contain DDL statements like CREATE, ALTER, or DROP because they are used to define the structure of the data, not manipulate it."
      ],
      "metadata": {
        "id": "O_2WdZYPLMRj"
      }
    },
    {
      "cell_type": "code",
      "source": [],
      "metadata": {
        "id": "NpBd_g1qHQ1f"
      },
      "execution_count": null,
      "outputs": []
    }
  ]
}