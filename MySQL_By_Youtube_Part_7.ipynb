{
  "nbformat": 4,
  "nbformat_minor": 0,
  "metadata": {
    "colab": {
      "provenance": []
    },
    "kernelspec": {
      "name": "python3",
      "display_name": "Python 3"
    },
    "language_info": {
      "name": "python"
    }
  },
  "cells": [
    {
      "cell_type": "code",
      "execution_count": 1,
      "metadata": {
        "colab": {
          "base_uri": "https://localhost:8080/"
        },
        "id": "aJgzr6BnvxOr",
        "outputId": "5d2675ad-15d7-4b97-ad8f-eedaf517d115"
      },
      "outputs": [
        {
          "output_type": "stream",
          "name": "stdout",
          "text": [
            "Reading package lists... Done\n",
            "Building dependency tree... Done\n",
            "Reading state information... Done\n",
            "Suggested packages:\n",
            "  sqlite3-doc\n",
            "The following NEW packages will be installed:\n",
            "  sqlite3\n",
            "0 upgraded, 1 newly installed, 0 to remove and 33 not upgraded.\n",
            "Need to get 768 kB of archives.\n",
            "After this operation, 1,873 kB of additional disk space will be used.\n",
            "Get:1 http://archive.ubuntu.com/ubuntu jammy-updates/main amd64 sqlite3 amd64 3.37.2-2ubuntu0.3 [768 kB]\n",
            "Fetched 768 kB in 1s (1,382 kB/s)\n",
            "Selecting previously unselected package sqlite3.\n",
            "(Reading database ... 121749 files and directories currently installed.)\n",
            "Preparing to unpack .../sqlite3_3.37.2-2ubuntu0.3_amd64.deb ...\n",
            "Unpacking sqlite3 (3.37.2-2ubuntu0.3) ...\n",
            "Setting up sqlite3 (3.37.2-2ubuntu0.3) ...\n",
            "Processing triggers for man-db (2.10.2-1) ...\n"
          ]
        }
      ],
      "source": [
        "!apt-get install -y sqlite3"
      ]
    },
    {
      "cell_type": "code",
      "source": [
        "import sqlite3\n",
        "\n",
        "# Connect to a SQLite database (it will be created if it doesn't exist)\n",
        "conn = sqlite3.connect('company_records.db')\n",
        "\n",
        "# Create a cursor object to execute SQL queries\n",
        "cursor = conn.cursor()\n",
        "\n",
        "# Creating a table with auto-increment ID means assign them as a primary key\n",
        "cursor.execute('''\n",
        "    CREATE TABLE employee_info(\n",
        "        id INTEGER PRIMARY KEY AUTOINCREMENT,\n",
        "        name TEXT NOT NULL,\n",
        "        designation TEXT NOT NULL,\n",
        "        age INTEGER,\n",
        "        bonus REAL\n",
        "    )''')\n",
        "\n",
        "# Commit changes and close the connection\n",
        "conn.commit()\n",
        "conn.close()\n"
      ],
      "metadata": {
        "id": "oQ7LkZoiv-Xk"
      },
      "execution_count": 2,
      "outputs": []
    },
    {
      "cell_type": "code",
      "source": [
        "import sqlite3\n",
        "\n",
        "# Connect to the SQLite database\n",
        "conn = sqlite3.connect('company_records.db')\n",
        "\n",
        "# Create a cursor object to execute SQL queries\n",
        "cursor = conn.cursor()\n",
        "\n",
        "# Inserting 5 records into the employee_info table\n",
        "employee_records = [\n",
        "    ('John Doe', 'Manager', 35, 5000.0),\n",
        "    ('Jane Smith', 'Engineer', 28, 3000.0),\n",
        "    ('Michael Johnson', 'Analyst', 32, 4000.0),\n",
        "    ('Emily Brown', 'Developer', 26, 3500.0),\n",
        "    ('David Wilson', 'Designer', 30, 3200.0)\n",
        "]\n",
        "\n",
        "# Inserting each record into the table\n",
        "cursor.executemany('''\n",
        "    INSERT INTO employee_info (name, designation, age, bonus)\n",
        "    VALUES (?, ?, ?, ?)\n",
        "''', employee_records)\n",
        "\n",
        "# Commit changes\n",
        "conn.commit()\n",
        "\n",
        "# Close the connection\n",
        "conn.close()\n"
      ],
      "metadata": {
        "id": "s9CWOlxkwZni"
      },
      "execution_count": 3,
      "outputs": []
    },
    {
      "cell_type": "markdown",
      "source": [
        "**Write a query to retrieve all the details where first name from employee table which starts with 'D'**"
      ],
      "metadata": {
        "id": "DFbTX_bJwxr7"
      }
    },
    {
      "cell_type": "code",
      "source": [
        "import sqlite3\n",
        "\n",
        "# Connect to the SQLite database\n",
        "conn = sqlite3.connect('company_records.db')\n",
        "\n",
        "# Create a cursor object to execute SQL queries\n",
        "cursor = conn.cursor()\n",
        "\n",
        "# Execute the SQL query to retrieve employee details where first name starts with 'D'\n",
        "cursor.execute(\"SELECT * FROM employee_info WHERE name LIKE 'D%'\")\n",
        "\n",
        "# Fetch all the results\n",
        "results = cursor.fetchall()\n",
        "\n",
        "# Print the header\n",
        "print(\"ID\\tName\\t\\tDesignation\\tAge\\tBonus\")\n",
        "print(\"-\" * 50)\n",
        "\n",
        "# Print the results\n",
        "for row in results:\n",
        "    print(f\"{row[0]}\\t{row[1]}\\t{row[2]}\\t\\t{row[3]}\\t{row[4]}\")\n",
        "\n",
        "# Close the connection\n",
        "conn.close()\n"
      ],
      "metadata": {
        "colab": {
          "base_uri": "https://localhost:8080/"
        },
        "id": "iSY3cVUWwveS",
        "outputId": "97543fb3-6ae6-4bd4-c95d-398a7ad0c164"
      },
      "execution_count": 4,
      "outputs": [
        {
          "output_type": "stream",
          "name": "stdout",
          "text": [
            "ID\tName\t\tDesignation\tAge\tBonus\n",
            "--------------------------------------------------\n",
            "5\tDavid Wilson\tDesigner\t\t30\t3200.0\n"
          ]
        }
      ]
    },
    {
      "cell_type": "markdown",
      "source": [
        "**Write a query to print all the details of the employee whose bonus between 4000 to 5000**"
      ],
      "metadata": {
        "id": "Y22RX40xxraf"
      }
    },
    {
      "cell_type": "code",
      "source": [
        "import sqlite3\n",
        "\n",
        "# Connect to the SQLite database\n",
        "conn = sqlite3.connect('company_records.db')\n",
        "\n",
        "# Create a cursor object to execute SQL queries\n",
        "cursor = conn.cursor()\n",
        "\n",
        "# Execute the SQL query to retrieve employee details with bonus between 4000 and 5000\n",
        "cursor.execute(\"SELECT * FROM employee_info WHERE bonus BETWEEN 4000 AND 5000\")\n",
        "\n",
        "# Fetch all the results\n",
        "results = cursor.fetchall()\n",
        "\n",
        "# Print the header\n",
        "print(\"ID\\tName\\t\\tDesignation\\tAge\\tBonus\")\n",
        "print(\"-\" * 50)\n",
        "\n",
        "# Print the results\n",
        "for row in results:\n",
        "    print(f\"{row[0]}\\t{row[1]}\\t{row[2]}\\t\\t{row[3]}\\t{row[4]}\")\n",
        "\n",
        "# Close the connection\n",
        "conn.close()\n"
      ],
      "metadata": {
        "colab": {
          "base_uri": "https://localhost:8080/"
        },
        "id": "2nKrA84CxclB",
        "outputId": "eb80f173-b4ac-48e2-d720-c9a53941d4ec"
      },
      "execution_count": 5,
      "outputs": [
        {
          "output_type": "stream",
          "name": "stdout",
          "text": [
            "ID\tName\t\tDesignation\tAge\tBonus\n",
            "--------------------------------------------------\n",
            "1\tJohn Doe\tManager\t\t35\t5000.0\n",
            "3\tMichael Johnson\tAnalyst\t\t32\t4000.0\n"
          ]
        }
      ]
    },
    {
      "cell_type": "markdown",
      "source": [
        "**Write a query to retrieve all the details where name from employee table which ends with 'N'**"
      ],
      "metadata": {
        "id": "oDBZddb2ykN7"
      }
    },
    {
      "cell_type": "code",
      "source": [
        "import sqlite3\n",
        "\n",
        "# Connect to the SQLite database\n",
        "conn = sqlite3.connect('company_records.db')\n",
        "\n",
        "# Create a cursor object to execute SQL queries\n",
        "cursor = conn.cursor()\n",
        "\n",
        "# Execute the SQL query to retrieve employee details where name ends with 'N'\n",
        "cursor.execute(\"SELECT * FROM employee_info WHERE name LIKE '%N'\")\n",
        "\n",
        "# Fetch all the results\n",
        "results = cursor.fetchall()\n",
        "\n",
        "# Print the header\n",
        "print(\"ID\\tName\\t\\tDesignation\\tAge\\tBonus\")\n",
        "print(\"-\" * 50)\n",
        "\n",
        "# Print the results\n",
        "for row in results:\n",
        "    print(f\"{row[0]}\\t{row[1]}\\t{row[2]}\\t\\t{row[3]}\\t{row[4]}\")\n",
        "\n",
        "# Close the connection\n",
        "conn.close()\n"
      ],
      "metadata": {
        "colab": {
          "base_uri": "https://localhost:8080/"
        },
        "id": "dIxoMgEvyTzA",
        "outputId": "5b47eefe-9e34-4cb1-b384-f03e0a252784"
      },
      "execution_count": 6,
      "outputs": [
        {
          "output_type": "stream",
          "name": "stdout",
          "text": [
            "ID\tName\t\tDesignation\tAge\tBonus\n",
            "--------------------------------------------------\n",
            "3\tMichael Johnson\tAnalyst\t\t32\t4000.0\n",
            "4\tEmily Brown\tDeveloper\t\t26\t3500.0\n",
            "5\tDavid Wilson\tDesigner\t\t30\t3200.0\n"
          ]
        }
      ]
    },
    {
      "cell_type": "markdown",
      "source": [
        "**Write a SQL Query to fetch number of employees in every department**"
      ],
      "metadata": {
        "id": "BPuMH_Azkx1o"
      }
    },
    {
      "cell_type": "code",
      "source": [
        "import sqlite3\n",
        "\n",
        "# Connect to the SQLite database\n",
        "conn = sqlite3.connect('company_records.db')\n",
        "\n",
        "# Create a cursor object to execute SQL queries\n",
        "cursor = conn.cursor()\n",
        "\n",
        "# Execute the SQL query to fetch the number of employees in every department\n",
        "cursor.execute('''\n",
        "    SELECT designation, COUNT(*) AS num_employees\n",
        "    FROM employee_info\n",
        "    GROUP BY designation\n",
        "''')\n",
        "\n",
        "# Fetch all the results\n",
        "results = cursor.fetchall()\n",
        "\n",
        "# Print the header\n",
        "print(\"Designation\\t\\tNumber of Employees\")\n",
        "print(\"-\" * 35)\n",
        "\n",
        "# Print the results\n",
        "for row in results:\n",
        "    print(f\"{row[0]}\\t\\t\\t{row[1]}\")\n",
        "\n",
        "# Close the connection\n",
        "conn.close()\n"
      ],
      "metadata": {
        "id": "Xjp3zQvlzuHM",
        "colab": {
          "base_uri": "https://localhost:8080/"
        },
        "outputId": "59878e02-9d82-47e1-8c13-57ea0ba14380"
      },
      "execution_count": 7,
      "outputs": [
        {
          "output_type": "stream",
          "name": "stdout",
          "text": [
            "Designation\t\tNumber of Employees\n",
            "-----------------------------------\n",
            "Analyst\t\t\t1\n",
            "Designer\t\t\t1\n",
            "Developer\t\t\t1\n",
            "Engineer\t\t\t1\n",
            "Manager\t\t\t1\n"
          ]
        }
      ]
    },
    {
      "cell_type": "markdown",
      "source": [
        "**Write a SQL Query to clone a new table from another table**"
      ],
      "metadata": {
        "id": "eh9T_xjDmTY_"
      }
    },
    {
      "cell_type": "code",
      "source": [
        "import sqlite3\n",
        "\n",
        "# Connect to the SQLite database\n",
        "conn = sqlite3.connect('company_records.db')\n",
        "\n",
        "# Create a cursor object to execute SQL queries\n",
        "cursor = conn.cursor()\n",
        "\n",
        "# Execute the SQL query to clone a new table from the employee_info table\n",
        "cursor.execute('''\n",
        "    CREATE TABLE employee_info_clone AS\n",
        "    SELECT * FROM employee_info\n",
        "''')\n",
        "\n",
        "# Commit the transaction\n",
        "conn.commit()\n",
        "\n",
        "# Close the connection\n",
        "conn.close()\n",
        "\n",
        "print(\"New table 'employee_info_clone' created successfully!\")"
      ],
      "metadata": {
        "colab": {
          "base_uri": "https://localhost:8080/"
        },
        "id": "TkEk4Mbfl3Do",
        "outputId": "5d6e50d3-6d45-4f94-e0c9-dbee8e80cfd5"
      },
      "execution_count": 8,
      "outputs": [
        {
          "output_type": "stream",
          "name": "stdout",
          "text": [
            "New table 'employee_info_clone' created successfully!\n"
          ]
        }
      ]
    },
    {
      "cell_type": "markdown",
      "source": [
        "**Write a SQL Query with that fetch out the employees who have highest salary**"
      ],
      "metadata": {
        "id": "o_pyjMZNnPFn"
      }
    },
    {
      "cell_type": "code",
      "source": [
        "import sqlite3\n",
        "\n",
        "# Connect to the SQLite database\n",
        "conn = sqlite3.connect('company_records.db')\n",
        "\n",
        "# Create a cursor object to execute SQL queries\n",
        "cursor = conn.cursor()\n",
        "\n",
        "# Execute the SQL query to fetch the employee(s) with the highest bonus\n",
        "cursor.execute('''\n",
        "    SELECT *\n",
        "    FROM employee_info\n",
        "    WHERE bonus = (SELECT MAX(bonus) FROM employee_info)\n",
        "''')\n",
        "\n",
        "# Fetch all the results\n",
        "results = cursor.fetchall()\n",
        "\n",
        "# Print the header\n",
        "print(\"ID\\tName\\t\\tDesignation\\tAge\\tBonus\")\n",
        "print(\"-\" * 50)\n",
        "\n",
        "# Print the results\n",
        "for row in results:\n",
        "    print(f\"{row[0]}\\t{row[1]}\\t{row[2]}\\t\\t{row[3]}\\t{row[4]}\")\n",
        "\n",
        "# Close the connection\n",
        "conn.close()\n"
      ],
      "metadata": {
        "colab": {
          "base_uri": "https://localhost:8080/"
        },
        "id": "SY7qW42LnKg1",
        "outputId": "aed80891-b5b3-49ea-c62f-059746302235"
      },
      "execution_count": 9,
      "outputs": [
        {
          "output_type": "stream",
          "name": "stdout",
          "text": [
            "ID\tName\t\tDesignation\tAge\tBonus\n",
            "--------------------------------------------------\n",
            "1\tJohn Doe\tManager\t\t35\t5000.0\n"
          ]
        }
      ]
    },
    {
      "cell_type": "markdown",
      "source": [
        "**Write a SQL Query to determine 4th highest bonus**"
      ],
      "metadata": {
        "id": "xnH_QXezpFII"
      }
    },
    {
      "cell_type": "code",
      "source": [
        "import sqlite3\n",
        "\n",
        "# Connect to the SQLite database\n",
        "conn = sqlite3.connect('company_records.db')\n",
        "\n",
        "# Create a cursor object to execute SQL queries\n",
        "cursor = conn.cursor()\n",
        "\n",
        "# Execute the SQL query to determine the 4th highest bonus\n",
        "cursor.execute('''\n",
        "    SELECT bonus\n",
        "    FROM employee_info\n",
        "    ORDER BY bonus DESC\n",
        "    LIMIT 1 OFFSET 3\n",
        "''')\n",
        "\n",
        "# Fetch the result\n",
        "result = cursor.fetchone()\n",
        "\n",
        "# Print the result\n",
        "print(\"4th Highest Bonus:\", result[0])\n",
        "\n",
        "# Close the connection\n",
        "conn.close()\n"
      ],
      "metadata": {
        "colab": {
          "base_uri": "https://localhost:8080/"
        },
        "id": "wnzcZiSXo4ea",
        "outputId": "e3a7a162-e625-4f74-d08b-06934cb448ca"
      },
      "execution_count": 10,
      "outputs": [
        {
          "output_type": "stream",
          "name": "stdout",
          "text": [
            "4th Highest Bonus: 3200.0\n"
          ]
        }
      ]
    },
    {
      "cell_type": "markdown",
      "source": [
        "**Write a SQL Query to find out 5th highest bonus without using LIMIT**"
      ],
      "metadata": {
        "id": "PoAt2Hk5uLNu"
      }
    },
    {
      "cell_type": "code",
      "source": [
        "import sqlite3\n",
        "\n",
        "# Connect to the SQLite database\n",
        "conn = sqlite3.connect('company_records.db')\n",
        "\n",
        "# Create a cursor object to execute SQL queries\n",
        "cursor = conn.cursor()\n",
        "\n",
        "# Define the SQL query to find the 5th highest bonus\n",
        "sql_query = '''\n",
        "    WITH RankedBonuses AS (\n",
        "        SELECT\n",
        "            bonus,\n",
        "            ROW_NUMBER() OVER (ORDER BY bonus DESC) AS row_num\n",
        "        FROM\n",
        "            employee_info\n",
        "    )\n",
        "    SELECT\n",
        "        bonus\n",
        "    FROM\n",
        "        RankedBonuses\n",
        "    WHERE\n",
        "        row_num = 5;\n",
        "'''\n",
        "\n",
        "# Execute the SQL query\n",
        "cursor.execute(sql_query)\n",
        "\n",
        "# Fetch the result\n",
        "result = cursor.fetchone()\n",
        "\n",
        "# Print the result\n",
        "print(\"5th Highest Bonus:\", result[0] if result else \"No data found\")\n",
        "\n",
        "# Close the connection\n",
        "conn.close()\n"
      ],
      "metadata": {
        "colab": {
          "base_uri": "https://localhost:8080/"
        },
        "id": "sQAWR6ZHuXlU",
        "outputId": "9c918594-8c63-498e-8e47-1e988cc98ea9"
      },
      "execution_count": 11,
      "outputs": [
        {
          "output_type": "stream",
          "name": "stdout",
          "text": [
            "5th Highest Bonus: 3000.0\n"
          ]
        }
      ]
    },
    {
      "cell_type": "markdown",
      "source": [
        "# Clauses in SQL\n",
        "\n",
        "\n",
        "\n",
        "**LIMIT**: This clause limits the number of rows returned by a query. It allows you to specify a maximum number of rows to return. For example, LIMIT 5 will return only the first 5 rows of the result set.\n",
        "\n",
        "**OFFSET**: This clause specifies the number of rows to skip before starting to return rows. It allows you to specify a starting point within the result set. For example, OFFSET 5 will skip the first 5 rows of the result set and start returning rows from the 6th row onwards.\n",
        "\n",
        "**SELECT Clause**: Used to specify the columns that you want to retrieve from a table. It is the most commonly used clause in SQL queries.\n",
        "\n",
        "**FROM Clause**: Specifies the table or tables from which to retrieve data.\n",
        "\n",
        "**WHERE Clause**: Filters rows based on specified conditions.\n",
        "\n",
        "**GROUP BY Clause**: Groups rows that have the same values into summary rows, typically used with aggregate functions like COUNT, SUM, AVG, etc.\n",
        "\n",
        "**HAVING Clause**: Used with the GROUP BY clause to filter groups based on specified conditions.\n",
        "\n",
        "**ORDER BY Clause**: Specifies the sort order of the result set.\n",
        "\n",
        "**LIMIT Clause**: Limits the number of rows returned by a query.\n",
        "\n",
        "**OFFSET Clause**: Specifies the number of rows to skip before starting to return rows.\n",
        "\n",
        "**JOIN Clause**: Combines rows from two or more tables based on a related column between them.\n",
        "\n",
        "**INNER JOIN Clause**: Returns only the rows that have matching values in both tables.\n",
        "\n",
        "**LEFT JOIN (or LEFT OUTER JOIN) Clause**: Returns all rows from the left table and the matched rows from the right table, with NULL values in the right table if there's no match.\n",
        "\n",
        "**RIGHT JOIN (or RIGHT OUTER JOIN) Clause**: Returns all rows from the right table and the matched rows from the left table, with NULL values in the left table if there's no match.\n",
        "\n",
        "**FULL JOIN (or FULL OUTER JOIN) Clause**: Returns all rows when there is a match in either table. This is a combination of the left and right joins.\n",
        "\n",
        "**UNION Clause**: Combines the results of two or more SELECT statements into a single result set."
      ],
      "metadata": {
        "id": "8qEZaLkErvns"
      }
    },
    {
      "cell_type": "code",
      "source": [],
      "metadata": {
        "id": "TZKWVoQOqqY2"
      },
      "execution_count": null,
      "outputs": []
    }
  ]
}