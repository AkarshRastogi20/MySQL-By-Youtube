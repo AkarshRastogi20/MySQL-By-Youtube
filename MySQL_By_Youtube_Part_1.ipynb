{
  "nbformat": 4,
  "nbformat_minor": 0,
  "metadata": {
    "colab": {
      "provenance": []
    },
    "kernelspec": {
      "name": "python3",
      "display_name": "Python 3"
    },
    "language_info": {
      "name": "python"
    }
  },
  "cells": [
    {
      "cell_type": "markdown",
      "source": [
        "**SQL Database Creation,Table Creation,Inserting values in the table and droping the table and the database**"
      ],
      "metadata": {
        "id": "DCc7hsLAO974"
      }
    },
    {
      "cell_type": "code",
      "execution_count": 6,
      "metadata": {
        "colab": {
          "base_uri": "https://localhost:8080/"
        },
        "id": "xnA8gC5yU7L1",
        "outputId": "2508e6a7-4cb6-4cb9-970b-80bf5d72ae52"
      },
      "outputs": [
        {
          "output_type": "stream",
          "name": "stdout",
          "text": [
            "Reading package lists... Done\n",
            "Building dependency tree... Done\n",
            "Reading state information... Done\n",
            "sqlite3 is already the newest version (3.37.2-2ubuntu0.3).\n",
            "0 upgraded, 0 newly installed, 0 to remove and 32 not upgraded.\n"
          ]
        }
      ],
      "source": [
        "!apt-get install -y sqlite3"
      ]
    },
    {
      "cell_type": "code",
      "source": [
        "import sqlite3\n",
        "\n",
        "# Connect to a SQLite database (it will be created if it doesn't exist)\n",
        "conn = sqlite3.connect('customers_record.db')\n",
        "\n",
        "# Create a cursor object to execute SQL queries\n",
        "cursor = conn.cursor()\n",
        "\n",
        "# Creating a table with auto-increment ID means assign them as a primary key so that I do not need to provide their values in table again and again.\n",
        "cursor.execute('''\n",
        "    CREATE TABLE customer_info(\n",
        "        id INTEGER PRIMARY KEY,\n",
        "        name TEXT,\n",
        "        age INTEGER\n",
        "    )''')\n",
        "\n",
        "# Commit changes and close the connection\n",
        "conn.commit()\n",
        "conn.close()\n"
      ],
      "metadata": {
        "id": "sIapBYo0ZtkR"
      },
      "execution_count": 12,
      "outputs": []
    },
    {
      "cell_type": "code",
      "source": [
        "import sqlite3\n",
        "\n",
        "# Connect to the database\n",
        "conn = sqlite3.connect('customers_record.db')\n",
        "cursor = conn.cursor()\n",
        "\n",
        "# Insert data into the table\n",
        "cursor.execute(\"INSERT INTO customer_info (name, age) VALUES ('Akarsh', 24)\")\n",
        "cursor.execute(\"INSERT INTO customer_info (name, age) VALUES ('John Doe', 25)\")\n",
        "\n",
        "# Commit changes\n",
        "conn.commit()\n",
        "\n",
        "# Close the connection\n",
        "conn.close()"
      ],
      "metadata": {
        "id": "94lL3-mxabW8"
      },
      "execution_count": 13,
      "outputs": []
    },
    {
      "cell_type": "code",
      "source": [
        "# Connect to the database\n",
        "conn = sqlite3.connect('customers_record.db')\n",
        "cursor = conn.cursor()\n",
        "\n",
        "# Execute a SELECT query\n",
        "cursor.execute('SELECT * FROM customer_info')\n",
        "\n",
        "# Fetch all rows\n",
        "rows = cursor.fetchall()\n",
        "\n",
        "# Display the retrieved data\n",
        "for row in rows:\n",
        "    print(row)\n",
        "\n",
        "# Close the connection\n",
        "conn.close()\n",
        "# so because of the id as a primary we automatically got values with sequential id numbers."
      ],
      "metadata": {
        "colab": {
          "base_uri": "https://localhost:8080/"
        },
        "id": "ZOSDB__5fD1z",
        "outputId": "60ff19e3-5dc8-41f1-a920-0db25be5dbe6"
      },
      "execution_count": 14,
      "outputs": [
        {
          "output_type": "stream",
          "name": "stdout",
          "text": [
            "(1, 'Akarsh', 24)\n",
            "(2, 'John Doe', 25)\n"
          ]
        }
      ]
    },
    {
      "cell_type": "code",
      "source": [
        "import os\n",
        "\n",
        "# Connect to the database\n",
        "conn = sqlite3.connect('customers_record.db')\n",
        "cursor = conn.cursor()\n",
        "\n",
        "# Drop the table\n",
        "cursor.execute('DROP TABLE IF EXISTS customer_info')\n",
        "\n",
        "# Commit changes\n",
        "conn.commit()\n",
        "\n",
        "# Close the connection\n",
        "conn.close()\n",
        "\n",
        "# Delete the database file\n",
        "if os.path.exists('customers.db'):\n",
        "    os.remove('customers.db')\n",
        "    print(\"Database file deleted.\")\n",
        "else:\n",
        "    print(\"Database file not found.\")"
      ],
      "metadata": {
        "colab": {
          "base_uri": "https://localhost:8080/"
        },
        "id": "Tnnr517lfpwM",
        "outputId": "7cd5e06d-b0ff-48de-f74a-e9e64190ee9f"
      },
      "execution_count": null,
      "outputs": [
        {
          "output_type": "stream",
          "name": "stdout",
          "text": [
            "Database file deleted.\n"
          ]
        }
      ]
    },
    {
      "cell_type": "markdown",
      "source": [
        "**SQL NULL Values,Update,delete,alter**"
      ],
      "metadata": {
        "id": "BP0syPgsO3uX"
      }
    },
    {
      "cell_type": "code",
      "source": [
        "import sqlite3\n",
        "\n",
        "# Connect to the database\n",
        "conn = sqlite3.connect('customers_record.db')\n",
        "cursor = conn.cursor()\n",
        "\n",
        "# Insert data into the table\n",
        "# Using NULL\n",
        "cursor.execute(\"INSERT INTO customer_info (name, age) VALUES ('Akarsh', 24)\")\n",
        "cursor.execute(\"INSERT INTO customer_info (name, age) VALUES ('John Doe', 25)\")\n",
        "cursor.execute(\"INSERT INTO customer_info (name, age) VALUES ('Binod', NULL)\")\n",
        "\n",
        "# Commit changes\n",
        "conn.commit()\n",
        "\n",
        "# Close the connection\n",
        "conn.close()"
      ],
      "metadata": {
        "id": "47r534Eeg_Mq"
      },
      "execution_count": 15,
      "outputs": []
    },
    {
      "cell_type": "code",
      "source": [
        "# Connect to the database\n",
        "conn = sqlite3.connect('customers_record.db')\n",
        "cursor = conn.cursor()\n",
        "\n",
        "# Execute a SELECT query\n",
        "cursor.execute('SELECT * FROM customer_info')\n",
        "\n",
        "# Fetch all rows\n",
        "rows = cursor.fetchall()\n",
        "\n",
        "# Display the retrieved data\n",
        "for row in rows:\n",
        "    print(row)\n",
        "\n",
        "# Close the connection\n",
        "conn.close()"
      ],
      "metadata": {
        "colab": {
          "base_uri": "https://localhost:8080/"
        },
        "id": "k1VUWaYlTfqi",
        "outputId": "c58893d4-c6df-43c7-9e22-cb27182ad43b"
      },
      "execution_count": 16,
      "outputs": [
        {
          "output_type": "stream",
          "name": "stdout",
          "text": [
            "(1, 'Akarsh', 24)\n",
            "(2, 'John Doe', 25)\n",
            "(3, 'Akarsh', 24)\n",
            "(4, 'John Doe', 25)\n",
            "(5, 'Binod', None)\n"
          ]
        }
      ]
    },
    {
      "cell_type": "code",
      "source": [
        "import sqlite3\n",
        "\n",
        "# Connect to the database\n",
        "conn = sqlite3.connect('customers_record.db')\n",
        "cursor = conn.cursor()\n",
        "\n",
        "# Execute a SELECT query with a WHERE clause to filter rows where age is null\n",
        "cursor.execute('SELECT * FROM customer_info WHERE age IS NULL')\n",
        "\n",
        "# Fetch all rows\n",
        "rows = cursor.fetchall()\n",
        "\n",
        "# Display the retrieved data\n",
        "for row in rows:\n",
        "    print(row)\n",
        "\n",
        "# Close the connection\n",
        "conn.close()"
      ],
      "metadata": {
        "colab": {
          "base_uri": "https://localhost:8080/"
        },
        "id": "ZFWnCfgoTz_i",
        "outputId": "4573e499-8ff4-4358-f305-2ca51429b6a1"
      },
      "execution_count": 17,
      "outputs": [
        {
          "output_type": "stream",
          "name": "stdout",
          "text": [
            "(5, 'Binod', None)\n"
          ]
        }
      ]
    },
    {
      "cell_type": "code",
      "source": [
        "import sqlite3\n",
        "\n",
        "# Connect to the database\n",
        "conn = sqlite3.connect('customers_record.db')\n",
        "cursor = conn.cursor()\n",
        "\n",
        "# Execute a SELECT query with a WHERE clause to filter rows where age is not null\n",
        "cursor.execute('SELECT * FROM customer_info WHERE age IS NOT NULL')\n",
        "\n",
        "# Fetch all rows\n",
        "rows = cursor.fetchall()\n",
        "\n",
        "# Display the retrieved data\n",
        "for row in rows:\n",
        "    print(row)\n",
        "\n",
        "# Close the connection\n",
        "conn.close()"
      ],
      "metadata": {
        "colab": {
          "base_uri": "https://localhost:8080/"
        },
        "id": "y9hSbXmwVBqw",
        "outputId": "554592cc-b8ca-4f85-d918-f341f984bd67"
      },
      "execution_count": 18,
      "outputs": [
        {
          "output_type": "stream",
          "name": "stdout",
          "text": [
            "(1, 'Akarsh', 24)\n",
            "(2, 'John Doe', 25)\n",
            "(3, 'Akarsh', 24)\n",
            "(4, 'John Doe', 25)\n"
          ]
        }
      ]
    },
    {
      "cell_type": "code",
      "source": [
        "# SQL Update statement for replace the null values"
      ],
      "metadata": {
        "id": "csrAf8bxVQSm"
      },
      "execution_count": 19,
      "outputs": []
    },
    {
      "cell_type": "code",
      "source": [
        "import sqlite3\n",
        "\n",
        "# Connect to the database\n",
        "conn = sqlite3.connect('customers_record.db')\n",
        "cursor = conn.cursor()\n",
        "\n",
        "# Update rows where age is null to a specific value (for example, 0)\n",
        "cursor.execute(\"UPDATE customer_info SET age = 34 WHERE age IS NULL\")\n",
        "\n",
        "# Commit the changes\n",
        "conn.commit()\n",
        "\n",
        "# Close the connection\n",
        "conn.close()"
      ],
      "metadata": {
        "id": "t_Y0ed9RVgYf"
      },
      "execution_count": 20,
      "outputs": []
    },
    {
      "cell_type": "code",
      "source": [
        "# Connect to the database\n",
        "conn = sqlite3.connect('customers_record.db')\n",
        "cursor = conn.cursor()\n",
        "\n",
        "# Execute a SELECT query\n",
        "cursor.execute('SELECT * FROM customer_info')\n",
        "\n",
        "# Fetch all rows\n",
        "rows = cursor.fetchall()\n",
        "\n",
        "# Display the retrieved data\n",
        "for row in rows:\n",
        "    print(row)\n",
        "\n",
        "# Close the connection\n",
        "conn.close()\n",
        "# so now in the output my null value is removed by 34"
      ],
      "metadata": {
        "colab": {
          "base_uri": "https://localhost:8080/"
        },
        "id": "uS6FYStmV70V",
        "outputId": "1d525a82-3dd1-4caf-83e1-033b09f2003a"
      },
      "execution_count": 21,
      "outputs": [
        {
          "output_type": "stream",
          "name": "stdout",
          "text": [
            "(1, 'Akarsh', 24)\n",
            "(2, 'John Doe', 25)\n",
            "(3, 'Akarsh', 24)\n",
            "(4, 'John Doe', 25)\n",
            "(5, 'Binod', 34)\n"
          ]
        }
      ]
    },
    {
      "cell_type": "code",
      "source": [
        "# SQL DELETE Statement"
      ],
      "metadata": {
        "id": "HGLEcgThWBXT"
      },
      "execution_count": 22,
      "outputs": []
    },
    {
      "cell_type": "code",
      "source": [
        "import sqlite3\n",
        "\n",
        "# Connect to the database\n",
        "conn = sqlite3.connect('customers_record.db')\n",
        "cursor = conn.cursor()\n",
        "\n",
        "# Delete rows where the name is 'Akarsh'\n",
        "cursor.execute(\"DELETE FROM customer_info WHERE name = 'Akarsh'\")\n",
        "\n",
        "# Commit the changes\n",
        "conn.commit()\n",
        "\n",
        "# Close the connection\n",
        "conn.close()"
      ],
      "metadata": {
        "id": "EvhhLZxxWU2r"
      },
      "execution_count": 23,
      "outputs": []
    },
    {
      "cell_type": "code",
      "source": [
        "# Connect to the database\n",
        "conn = sqlite3.connect('customers_record.db')\n",
        "cursor = conn.cursor()\n",
        "\n",
        "# Execute a SELECT query\n",
        "cursor.execute('SELECT * FROM customer_info')\n",
        "\n",
        "# Fetch all rows\n",
        "rows = cursor.fetchall()\n",
        "\n",
        "# Display the retrieved data\n",
        "for row in rows:\n",
        "    print(row)\n",
        "\n",
        "# Close the connection\n",
        "conn.close()\n",
        "# so now in the output my Akarsh data is deleted."
      ],
      "metadata": {
        "colab": {
          "base_uri": "https://localhost:8080/"
        },
        "id": "ZVU6xyH2Wk10",
        "outputId": "f66e2c48-d800-4451-842a-5c9c816b3534"
      },
      "execution_count": 24,
      "outputs": [
        {
          "output_type": "stream",
          "name": "stdout",
          "text": [
            "(2, 'John Doe', 25)\n",
            "(4, 'John Doe', 25)\n",
            "(5, 'Binod', 34)\n"
          ]
        }
      ]
    },
    {
      "cell_type": "code",
      "source": [
        "# SQL ALTER Statement"
      ],
      "metadata": {
        "id": "DhZLJ_M6Wo6f"
      },
      "execution_count": 25,
      "outputs": []
    },
    {
      "cell_type": "code",
      "source": [
        "import sqlite3\n",
        "\n",
        "# Connect to the database\n",
        "conn = sqlite3.connect('customers_record.db')\n",
        "cursor = conn.cursor()\n",
        "\n",
        "# Add columns to the existing table\n",
        "cursor.execute(\"ALTER TABLE customer_info ADD COLUMN address VARCHAR\")\n",
        "cursor.execute(\"ALTER TABLE customer_info ADD COLUMN home_number INTEGER\")\n",
        "\n",
        "# Commit the changes\n",
        "conn.commit()\n",
        "\n",
        "# Close the connection\n",
        "conn.close()"
      ],
      "metadata": {
        "id": "CzJC6mj7XDcv"
      },
      "execution_count": 30,
      "outputs": []
    },
    {
      "cell_type": "code",
      "source": [
        "# Connect to the database\n",
        "conn = sqlite3.connect('customers_record.db')\n",
        "cursor = conn.cursor()\n",
        "\n",
        "# Execute a SELECT query\n",
        "cursor.execute('SELECT * FROM customer_info')\n",
        "\n",
        "# Fetch all rows\n",
        "rows = cursor.fetchall()\n",
        "\n",
        "# Display the retrieved data\n",
        "for row in rows:\n",
        "    print(row)\n",
        "\n",
        "# Close the connection\n",
        "conn.close()\n",
        "# so now in the output my Akarsh data is deleted."
      ],
      "metadata": {
        "colab": {
          "base_uri": "https://localhost:8080/"
        },
        "id": "tHZ9PUMtX5e4",
        "outputId": "e353bd11-825f-401c-ecb8-90995d08f789"
      },
      "execution_count": 31,
      "outputs": [
        {
          "output_type": "stream",
          "name": "stdout",
          "text": [
            "(2, 'John Doe', 25, None, None, None, None, None)\n",
            "(4, 'John Doe', 25, None, None, None, None, None)\n",
            "(5, 'Binod', 34, None, None, None, None, None)\n"
          ]
        }
      ]
    },
    {
      "cell_type": "code",
      "source": [
        "# SQL Modify Statement for converting one column datatype to another"
      ],
      "metadata": {
        "id": "pV-Vni4PYTKM"
      },
      "execution_count": 32,
      "outputs": []
    },
    {
      "cell_type": "code",
      "source": [
        "import sqlite3\n",
        "\n",
        "# Connect to the database\n",
        "conn = sqlite3.connect('customers_record.db')\n",
        "cursor = conn.cursor()\n",
        "\n",
        "# Modify the datatype of the age column\n",
        "cursor.execute(\"PRAGMA foreign_keys=off\")\n",
        "cursor.execute(\"BEGIN TRANSACTION\")\n",
        "cursor.execute(\"ALTER TABLE customer_info RENAME TO customer_info_old\")\n",
        "cursor.execute('''\n",
        "    CREATE TABLE customer_info (\n",
        "        id INTEGER PRIMARY KEY,\n",
        "        name TEXT,\n",
        "        age TEXT,  -- Modify datatype here\n",
        "        email TEXT,\n",
        "        phone TEXT\n",
        "    )\n",
        "''')\n",
        "cursor.execute(\"INSERT INTO customer_info (id, name, age, email, phone) SELECT id, name, age, email, phone FROM customer_info_old\")\n",
        "cursor.execute(\"DROP TABLE customer_info_old\")\n",
        "cursor.execute(\"COMMIT\")\n",
        "cursor.execute(\"PRAGMA foreign_keys=on\")\n",
        "\n",
        "# Commit the changes\n",
        "conn.commit()\n",
        "\n",
        "# Close the connection\n",
        "conn.close()\n"
      ],
      "metadata": {
        "id": "X_yMK1GVZfMH"
      },
      "execution_count": 33,
      "outputs": []
    },
    {
      "cell_type": "code",
      "source": [
        "import sqlite3\n",
        "\n",
        "# Connect to the database\n",
        "conn = sqlite3.connect('customers_record.db')\n",
        "\n",
        "# Create a cursor object to execute SQL queries\n",
        "cursor = conn.cursor()\n",
        "\n",
        "# Get the schema of the customer_info table\n",
        "cursor.execute(\"PRAGMA table_info(customer_info)\")\n",
        "schema_info = cursor.fetchall()\n",
        "\n",
        "# Display the schema information\n",
        "print(\"Column Name, Type, Not Null, Default Value, Primary Key\")\n",
        "for column in schema_info:\n",
        "    print(column)\n",
        "\n",
        "# Close the connection\n",
        "conn.close()"
      ],
      "metadata": {
        "colab": {
          "base_uri": "https://localhost:8080/"
        },
        "id": "-HRrdIe0Z-3T",
        "outputId": "8815bb51-bc65-4466-fd63-8eb0b4816c13"
      },
      "execution_count": 34,
      "outputs": [
        {
          "output_type": "stream",
          "name": "stdout",
          "text": [
            "Column Name, Type, Not Null, Default Value, Primary Key\n",
            "(0, 'id', 'INTEGER', 0, None, 1)\n",
            "(1, 'name', 'TEXT', 0, None, 0)\n",
            "(2, 'age', 'TEXT', 0, None, 0)\n",
            "(3, 'email', 'TEXT', 0, None, 0)\n",
            "(4, 'phone', 'TEXT', 0, None, 0)\n"
          ]
        }
      ]
    },
    {
      "cell_type": "code",
      "source": [],
      "metadata": {
        "id": "m-63Z39LaWiS"
      },
      "execution_count": null,
      "outputs": []
    }
  ]
}