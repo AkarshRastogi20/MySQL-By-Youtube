{
  "nbformat": 4,
  "nbformat_minor": 0,
  "metadata": {
    "colab": {
      "provenance": []
    },
    "kernelspec": {
      "name": "python3",
      "display_name": "Python 3"
    },
    "language_info": {
      "name": "python"
    }
  },
  "cells": [
    {
      "cell_type": "code",
      "execution_count": 1,
      "metadata": {
        "colab": {
          "base_uri": "https://localhost:8080/"
        },
        "id": "FJZQH09EszHH",
        "outputId": "604a341f-0e95-440c-8d27-4a4a68300281"
      },
      "outputs": [
        {
          "output_type": "stream",
          "name": "stdout",
          "text": [
            "Reading package lists... Done\n",
            "Building dependency tree... Done\n",
            "Reading state information... Done\n",
            "Suggested packages:\n",
            "  sqlite3-doc\n",
            "The following NEW packages will be installed:\n",
            "  sqlite3\n",
            "0 upgraded, 1 newly installed, 0 to remove and 32 not upgraded.\n",
            "Need to get 768 kB of archives.\n",
            "After this operation, 1,873 kB of additional disk space will be used.\n",
            "Get:1 http://archive.ubuntu.com/ubuntu jammy-updates/main amd64 sqlite3 amd64 3.37.2-2ubuntu0.3 [768 kB]\n",
            "Fetched 768 kB in 0s (6,290 kB/s)\n",
            "Selecting previously unselected package sqlite3.\n",
            "(Reading database ... 121747 files and directories currently installed.)\n",
            "Preparing to unpack .../sqlite3_3.37.2-2ubuntu0.3_amd64.deb ...\n",
            "Unpacking sqlite3 (3.37.2-2ubuntu0.3) ...\n",
            "Setting up sqlite3 (3.37.2-2ubuntu0.3) ...\n",
            "Processing triggers for man-db (2.10.2-1) ...\n"
          ]
        }
      ],
      "source": [
        "!apt-get install -y sqlite3"
      ]
    },
    {
      "cell_type": "markdown",
      "source": [
        "**SQL NOT NULL Constraint**"
      ],
      "metadata": {
        "id": "tRF9kRa-tu0C"
      }
    },
    {
      "cell_type": "code",
      "source": [
        "import sqlite3\n",
        "\n",
        "# Connect to a SQLite database (it will be created if it doesn't exist)\n",
        "conn = sqlite3.connect('students.db')\n",
        "\n",
        "# Create a cursor object to execute SQL queries\n",
        "cursor = conn.cursor()\n",
        "\n",
        "# Creating a table with auto-increment ID means assign them as a primary key so that I do not need to provide their values in table again and again.\n",
        "cursor.execute('''\n",
        "    CREATE TABLE student_info(\n",
        "        id INTEGER NOT NULL,\n",
        "        name TEXT NOT NULL,\n",
        "        age INTEGER\n",
        "    )''')\n",
        "\n",
        "# Commit changes and close the connection\n",
        "conn.commit()\n",
        "conn.close()\n"
      ],
      "metadata": {
        "id": "_wjO4jEws3Rv"
      },
      "execution_count": 2,
      "outputs": []
    },
    {
      "cell_type": "code",
      "source": [
        "import sqlite3\n",
        "\n",
        "# Connect to the database\n",
        "conn = sqlite3.connect('students.db')\n",
        "cursor = conn.cursor()\n",
        "\n",
        "# Insert data into the table\n",
        "cursor.execute(\"INSERT INTO student_info (id,name, age) VALUES (1,'Akarsh', 24)\")\n",
        "cursor.execute(\"INSERT INTO student_info (id,name, age) VALUES (2,'John Doe', 25)\")\n",
        "\n",
        "# Commit changes\n",
        "conn.commit()\n",
        "\n",
        "# Close the connection\n",
        "conn.close()"
      ],
      "metadata": {
        "id": "Q8OkTLWRuHRM"
      },
      "execution_count": 3,
      "outputs": []
    },
    {
      "cell_type": "code",
      "source": [
        "import sqlite3\n",
        "\n",
        "# Connect to the database\n",
        "conn = sqlite3.connect('students.db')\n",
        "\n",
        "# Create a cursor object to execute SQL queries\n",
        "cursor = conn.cursor()\n",
        "\n",
        "# Get the schema of the student_info table\n",
        "cursor.execute(\"PRAGMA table_info(student_info)\")\n",
        "schema_info = cursor.fetchall()\n",
        "\n",
        "# Display the schema information\n",
        "print(\"Column Name, Type, Not Null, Default Value, Primary Key\")\n",
        "for column in schema_info:\n",
        "    print(column)\n",
        "\n",
        "# Close the connection\n",
        "conn.close()"
      ],
      "metadata": {
        "colab": {
          "base_uri": "https://localhost:8080/"
        },
        "id": "3CT1B185uc6t",
        "outputId": "57df5c85-c96b-4210-cf29-84ea46c87da2"
      },
      "execution_count": 4,
      "outputs": [
        {
          "output_type": "stream",
          "name": "stdout",
          "text": [
            "Column Name, Type, Not Null, Default Value, Primary Key\n",
            "(0, 'id', 'INTEGER', 1, None, 1)\n",
            "(1, 'name', 'TEXT', 1, None, 0)\n",
            "(2, 'age', 'INTEGER', 0, None, 0)\n"
          ]
        }
      ]
    },
    {
      "cell_type": "markdown",
      "source": [
        "**SQL Unique Constraint Statement**"
      ],
      "metadata": {
        "id": "VrCBtaJqvuCo"
      }
    },
    {
      "cell_type": "code",
      "source": [
        "import sqlite3\n",
        "\n",
        "# Connect to a SQLite database (it will be created if it doesn't exist)\n",
        "conn = sqlite3.connect('person_1.db')\n",
        "\n",
        "# Create a cursor object to execute SQL queries\n",
        "cursor = conn.cursor()\n",
        "\n",
        "# Creating a table with auto-increment ID means assign them as a primary key so that I do not need to provide their values in table again and again.\n",
        "cursor.execute('''\n",
        "    CREATE TABLE person_1_info(\n",
        "        id INTEGER NOT NULL,\n",
        "        name TEXT NOT NULL,\n",
        "        age INTEGER NOT NULL,\n",
        "        UNIQUE(id) # It means you can place only 1 record on a specific id\n",
        "    )''')\n",
        "\n",
        "# Commit changes and close the connection\n",
        "conn.commit()\n",
        "conn.close()\n"
      ],
      "metadata": {
        "id": "-bcnUOYxu4mk"
      },
      "execution_count": 7,
      "outputs": []
    },
    {
      "cell_type": "code",
      "source": [
        "import sqlite3\n",
        "\n",
        "# Connect to the database\n",
        "conn = sqlite3.connect('person_1.db')\n",
        "cursor = conn.cursor()\n",
        "\n",
        "# Insert data into the table\n",
        "cursor.execute(\"INSERT INTO person_1_info VALUES (1,'Akarsh', 24)\")\n",
        "cursor.execute(\"INSERT INTO person_1_info VALUES (2,'John Doe', 25)\")\n",
        "\n",
        "# Commit changes\n",
        "conn.commit()\n",
        "\n",
        "# Close the connection\n",
        "conn.close()"
      ],
      "metadata": {
        "id": "RTRLii4ywauT"
      },
      "execution_count": 9,
      "outputs": []
    },
    {
      "cell_type": "code",
      "source": [
        "# Connect to the database\n",
        "conn = sqlite3.connect('person_1.db')\n",
        "cursor = conn.cursor()\n",
        "\n",
        "# Execute a SELECT query\n",
        "cursor.execute('SELECT * FROM person_1_info')\n",
        "\n",
        "# Fetch all rows\n",
        "rows = cursor.fetchall()\n",
        "\n",
        "# Display the retrieved data\n",
        "for row in rows:\n",
        "    print(row)\n",
        "\n",
        "# Close the connection\n",
        "conn.close()\n",
        "# so now in the output my Akarsh data is deleted."
      ],
      "metadata": {
        "colab": {
          "base_uri": "https://localhost:8080/"
        },
        "id": "_1gEnBioxVgM",
        "outputId": "b23a90ee-9139-4421-aa1a-310e20248b9d"
      },
      "execution_count": 10,
      "outputs": [
        {
          "output_type": "stream",
          "name": "stdout",
          "text": [
            "(1, 'Akarsh', 24)\n",
            "(2, 'John Doe', 25)\n"
          ]
        }
      ]
    },
    {
      "cell_type": "markdown",
      "source": [
        "**Drop UNIQUE Constraint**"
      ],
      "metadata": {
        "id": "GmG4GZC7zGDr"
      }
    },
    {
      "cell_type": "code",
      "source": [
        "import sqlite3\n",
        "\n",
        "# Connect to the SQLite database\n",
        "conn = sqlite3.connect('person_1.db')\n",
        "cursor = conn.cursor()\n",
        "\n",
        "# Step 1: Create a new table without the id column\n",
        "cursor.execute('''\n",
        "    CREATE TABLE person_1_info_new(\n",
        "        name TEXT NOT NULL,\n",
        "        age INTEGER NOT NULL,\n",
        "        UNIQUE(name) -- Unique constraint on name\n",
        "    )''')\n",
        "\n",
        "# Step 2: Copy data from the old table to the new one\n",
        "cursor.execute('''\n",
        "    INSERT INTO person_1_info_new (name, age)\n",
        "    SELECT name, age FROM person_1_info\n",
        "''')\n",
        "\n",
        "# Step 3: Drop the old table\n",
        "cursor.execute('DROP TABLE person_1_info')\n",
        "\n",
        "# Step 4: Rename the new table to the old one\n",
        "cursor.execute('ALTER TABLE person_1_info_new RENAME TO person_1_info')\n",
        "\n",
        "# Commit changes and close the connection\n",
        "conn.commit()\n",
        "conn.close()\n"
      ],
      "metadata": {
        "id": "pMvhs8ifxu-5"
      },
      "execution_count": 16,
      "outputs": []
    },
    {
      "cell_type": "code",
      "source": [
        "# Connect to the database\n",
        "conn = sqlite3.connect('person_1.db')\n",
        "cursor = conn.cursor()\n",
        "\n",
        "# Execute a SELECT query\n",
        "cursor.execute('SELECT * FROM person_1_info')\n",
        "\n",
        "# Fetch all rows\n",
        "rows = cursor.fetchall()\n",
        "\n",
        "# Display the retrieved data\n",
        "for row in rows:\n",
        "    print(row)\n",
        "\n",
        "# Close the connection\n",
        "conn.close()"
      ],
      "metadata": {
        "colab": {
          "base_uri": "https://localhost:8080/"
        },
        "id": "h2JQWr_X0GX3",
        "outputId": "852b49dc-8d66-4cf0-a8f9-e04c6f91a030"
      },
      "execution_count": 17,
      "outputs": [
        {
          "output_type": "stream",
          "name": "stdout",
          "text": [
            "('Akarsh', 24)\n",
            "('John Doe', 25)\n"
          ]
        }
      ]
    },
    {
      "cell_type": "code",
      "source": [],
      "metadata": {
        "id": "JMD8wmgI2jy-"
      },
      "execution_count": null,
      "outputs": []
    }
  ]
}