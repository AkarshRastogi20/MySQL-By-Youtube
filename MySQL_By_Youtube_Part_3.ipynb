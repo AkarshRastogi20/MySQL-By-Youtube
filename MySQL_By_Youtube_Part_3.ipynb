{
  "nbformat": 4,
  "nbformat_minor": 0,
  "metadata": {
    "colab": {
      "provenance": []
    },
    "kernelspec": {
      "name": "python3",
      "display_name": "Python 3"
    },
    "language_info": {
      "name": "python"
    }
  },
  "cells": [
    {
      "cell_type": "code",
      "execution_count": 1,
      "metadata": {
        "colab": {
          "base_uri": "https://localhost:8080/"
        },
        "id": "Z_G282EYde5J",
        "outputId": "010754a5-a82a-4ef6-d725-10ef25b01be2"
      },
      "outputs": [
        {
          "output_type": "stream",
          "name": "stdout",
          "text": [
            "Reading package lists... Done\n",
            "Building dependency tree... Done\n",
            "Reading state information... Done\n",
            "Suggested packages:\n",
            "  sqlite3-doc\n",
            "The following NEW packages will be installed:\n",
            "  sqlite3\n",
            "0 upgraded, 1 newly installed, 0 to remove and 32 not upgraded.\n",
            "Need to get 768 kB of archives.\n",
            "After this operation, 1,873 kB of additional disk space will be used.\n",
            "Get:1 http://archive.ubuntu.com/ubuntu jammy-updates/main amd64 sqlite3 amd64 3.37.2-2ubuntu0.3 [768 kB]\n",
            "Fetched 768 kB in 2s (413 kB/s)\n",
            "Selecting previously unselected package sqlite3.\n",
            "(Reading database ... 121749 files and directories currently installed.)\n",
            "Preparing to unpack .../sqlite3_3.37.2-2ubuntu0.3_amd64.deb ...\n",
            "Unpacking sqlite3 (3.37.2-2ubuntu0.3) ...\n",
            "Setting up sqlite3 (3.37.2-2ubuntu0.3) ...\n",
            "Processing triggers for man-db (2.10.2-1) ...\n"
          ]
        }
      ],
      "source": [
        "!apt-get install -y sqlite3"
      ]
    },
    {
      "cell_type": "code",
      "source": [
        "import sqlite3\n",
        "\n",
        "# Connect to a SQLite database (it will be created if it doesn't exist)\n",
        "conn = sqlite3.connect('customers_record.db')\n",
        "\n",
        "# Create a cursor object to execute SQL queries\n",
        "cursor = conn.cursor()\n",
        "\n",
        "# Creating a table with auto-increment ID means assign them as a primary key so that I do not need to provide their values in table again and again.\n",
        "cursor.execute('''\n",
        "    CREATE TABLE customer_info(\n",
        "        id INTEGER PRIMARY KEY NOT NULL,\n",
        "        name TEXT NOT NULL,\n",
        "        age INTEGER\n",
        "    )''')\n",
        "\n",
        "# Commit changes and close the connection\n",
        "conn.commit()\n",
        "conn.close()\n"
      ],
      "metadata": {
        "id": "a68b8pE5dpnD"
      },
      "execution_count": 2,
      "outputs": []
    },
    {
      "cell_type": "markdown",
      "source": [
        "**SQL foreign key Constraint**"
      ],
      "metadata": {
        "id": "YbXgo9r5js3I"
      }
    },
    {
      "cell_type": "code",
      "source": [
        "import sqlite3\n",
        "\n",
        "# Connect to a SQLite database (it will be created if it doesn't exist)\n",
        "conn = sqlite3.connect('customers_record_1.db')\n",
        "\n",
        "# Create a cursor object to execute SQL queries\n",
        "cursor = conn.cursor()\n",
        "\n",
        "# Creating a table with auto-increment ID means assign them as a primary key so that I do not need to provide their values in table again and again.\n",
        "cursor.execute('''\n",
        "    CREATE TABLE customer_info(\n",
        "        id INTEGER PRIMARY KEY NOT NULL,\n",
        "        name TEXT NOT NULL,\n",
        "        age INTEGER\n",
        "    )''')\n",
        "\n",
        "# Creating another table with auto-increment ID and foreign key reference to customer_info.id\n",
        "cursor.execute('''\n",
        "    CREATE TABLE customer_orders(\n",
        "        order_id INTEGER PRIMARY KEY NOT NULL,\n",
        "        customer_id INTEGER,\n",
        "        order_date DATE,\n",
        "        FOREIGN KEY (customer_id) REFERENCES customer_info(id)\n",
        "    )''')\n",
        "\n",
        "# Commit changes and close the connection\n",
        "conn.commit()\n",
        "conn.close()\n"
      ],
      "metadata": {
        "id": "J5v-fq7Vgn_m"
      },
      "execution_count": 4,
      "outputs": []
    },
    {
      "cell_type": "markdown",
      "source": [
        "**SQL Check Constraint**"
      ],
      "metadata": {
        "id": "trdnDruRkT_F"
      }
    },
    {
      "cell_type": "code",
      "source": [
        "import sqlite3\n",
        "\n",
        "# Connect to a SQLite database (it will be created if it doesn't exist)\n",
        "conn = sqlite3.connect('customers_record_2.db')\n",
        "\n",
        "# Create a cursor object to execute SQL queries\n",
        "cursor = conn.cursor()\n",
        "\n",
        "# Creating a table with auto-increment ID means assign them as a primary key so that I do not need to provide their values in table again and again.\n",
        "# CHECK constraint to ensure that the age is a positive integer\n",
        "cursor.execute('''\n",
        "    CREATE TABLE customer_info(\n",
        "        id INTEGER PRIMARY KEY NOT NULL,\n",
        "        name TEXT NOT NULL,\n",
        "        age INTEGER CHECK (age >= 0)\n",
        "    )''')\n",
        "\n",
        "# Creating another table with auto-increment ID and foreign key reference to customer_info.id\n",
        "cursor.execute('''\n",
        "    CREATE TABLE customer_orders(\n",
        "        order_id INTEGER PRIMARY KEY NOT NULL,\n",
        "        customer_id INTEGER,\n",
        "        order_date DATE,\n",
        "        FOREIGN KEY (customer_id) REFERENCES customer_info(id)\n",
        "    )''')\n",
        "\n",
        "# Commit changes and close the connection\n",
        "conn.commit()\n",
        "conn.close()\n"
      ],
      "metadata": {
        "id": "jvmNVwC9j4aL"
      },
      "execution_count": 5,
      "outputs": []
    },
    {
      "cell_type": "markdown",
      "source": [
        "**SQL Default Constraint**"
      ],
      "metadata": {
        "id": "ZtwZHiADlCpe"
      }
    },
    {
      "cell_type": "code",
      "source": [
        "import sqlite3\n",
        "\n",
        "# Connect to a SQLite database (it will be created if it doesn't exist)\n",
        "conn = sqlite3.connect('customers_record_4.db')\n",
        "\n",
        "# Create a cursor object to execute SQL queries\n",
        "cursor = conn.cursor()\n",
        "\n",
        "# Creating a table with auto-increment ID means assign them as a primary key so that I do not need to provide their values in the table again and again.\n",
        "# default constraint to set a default value for the age column in the customer_info table\n",
        "cursor.execute('''\n",
        "    CREATE TABLE customer_info(\n",
        "        id INTEGER PRIMARY KEY NOT NULL,\n",
        "        name TEXT NOT NULL,\n",
        "        age INTEGER DEFAULT 18 CHECK (age >= 0)\n",
        "    )''')\n",
        "\n",
        "# Creating another table with auto-increment ID and foreign key reference to customer_info.id\n",
        "cursor.execute('''\n",
        "    CREATE TABLE customer_orders(\n",
        "        order_id INTEGER PRIMARY KEY NOT NULL,\n",
        "        customer_id INTEGER,\n",
        "        order_date DATE,\n",
        "        FOREIGN KEY (customer_id) REFERENCES customer_info(id)\n",
        "    )''')\n",
        "\n",
        "# Commit changes and close the connection\n",
        "conn.commit()\n",
        "conn.close()\n"
      ],
      "metadata": {
        "id": "JBg6bIyZkZgY"
      },
      "execution_count": 6,
      "outputs": []
    },
    {
      "cell_type": "markdown",
      "source": [
        "**SQL Indexes**"
      ],
      "metadata": {
        "id": "4Yi_rl86nXUP"
      }
    },
    {
      "cell_type": "code",
      "source": [
        "import sqlite3\n",
        "\n",
        "# Connect to a SQLite database (it will be created if it doesn't exist)\n",
        "conn = sqlite3.connect('customers_record_5.db')\n",
        "\n",
        "# Create a cursor object to execute SQL queries\n",
        "cursor = conn.cursor()\n",
        "\n",
        "# Creating a table with auto-increment ID means assign them as a primary key so that I do not need to provide their values in table again and again.\n",
        "cursor.execute('''\n",
        "    CREATE TABLE customer_info(\n",
        "        id INTEGER PRIMARY KEY NOT NULL,\n",
        "        name TEXT NOT NULL,\n",
        "        age INTEGER DEFAULT 18 CHECK (age >= 0)\n",
        "    )''')\n",
        "\n",
        "# Creating another table with auto-increment ID and foreign key reference to customer_info.id\n",
        "cursor.execute('''\n",
        "    CREATE TABLE customer_orders(\n",
        "        order_id INTEGER PRIMARY KEY NOT NULL,\n",
        "        customer_id INTEGER,\n",
        "        order_date DATE,\n",
        "        FOREIGN KEY (customer_id) REFERENCES customer_info(id)\n",
        "    )''')\n",
        "\n",
        "# Create an index on the customer_id column in the customer_orders table\n",
        "# An index named idx_customer_id is created on the customer_id column in the customer_orders table.\n",
        "# Indexes can improve query performance when filtering or sorting data based on the indexed columns.\n",
        "cursor.execute('''\n",
        "    CREATE INDEX idx_customer_id ON customer_orders(customer_id)\n",
        "''')\n",
        "\n",
        "# Commit changes and close the connection\n",
        "conn.commit()\n",
        "conn.close()\n"
      ],
      "metadata": {
        "id": "7kRZBODklK2f"
      },
      "execution_count": 7,
      "outputs": []
    },
    {
      "cell_type": "code",
      "source": [],
      "metadata": {
        "id": "Hy7QPwUyoY9U"
      },
      "execution_count": null,
      "outputs": []
    }
  ]
}